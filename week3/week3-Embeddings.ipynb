{
 "cells": [
  {
   "cell_type": "markdown",
   "metadata": {},
   "source": [
    "# Find duplicate questions on StackOverflow by their embeddings\n",
    "\n",
    "In this assignment you will learn how to calculate a similarity for pieces of text. Using this approach you will know how to find duplicate questions from [StackOverflow](https://stackoverflow.com)."
   ]
  },
  {
   "cell_type": "markdown",
   "metadata": {},
   "source": [
    "### Libraries\n",
    "\n",
    "In this task you will you will need the following libraries:\n",
    "- [StarSpace](https://github.com/facebookresearch/StarSpace) — a general-purpose model for efficient learning of entity embeddings from Facebook\n",
    "- [Gensim](https://radimrehurek.com/gensim/) — a tool for solving various NLP-related tasks (topic modeling, text representation, ...)\n",
    "- [Numpy](http://www.numpy.org) — a package for scientific computing.\n",
    "- [scikit-learn](http://scikit-learn.org/stable/index.html) — a tool for data mining and data analysis.\n",
    "- [Nltk](http://www.nltk.org) — a platform to work with human language data."
   ]
  },
  {
   "cell_type": "markdown",
   "metadata": {},
   "source": [
    "### Data\n",
    "\n",
    "The following cell will download all data required for this assignment into the folder `week3/data`."
   ]
  },
  {
   "cell_type": "code",
   "execution_count": 1,
   "metadata": {},
   "outputs": [
    {
     "name": "stdout",
     "output_type": "stream",
     "text": [
      "File data/train.tsv is already downloaded.\n",
      "File data/validation.tsv is already downloaded.\n",
      "File data/test.tsv is already downloaded.\n",
      "File data/test_embeddings.tsv is already downloaded.\n",
      "File GoogleNews-vectors-negative300.bin is already downloaded.\n"
     ]
    }
   ],
   "source": [
    "import sys\n",
    "sys.path.append(\"..\")\n",
    "from common.download_utils import download_week3_resources\n",
    "\n",
    "download_week3_resources()"
   ]
  },
  {
   "cell_type": "markdown",
   "metadata": {},
   "source": [
    "### Grading\n",
    "We will create a grader instace below and use it to collect your answers. Note that these outputs will be stored locally inside grader and will be uploaded to platform only after running submiting function in the last part of this assignment. If you want to make partial submission, you can run that cell any time you want."
   ]
  },
  {
   "cell_type": "code",
   "execution_count": 2,
   "metadata": {},
   "outputs": [],
   "source": [
    "from grader import Grader"
   ]
  },
  {
   "cell_type": "code",
   "execution_count": 3,
   "metadata": {},
   "outputs": [],
   "source": [
    "grader = Grader()"
   ]
  },
  {
   "cell_type": "markdown",
   "metadata": {},
   "source": [
    "## Word embedding\n",
    "\n",
    "To solve the problem, you will use two different models of embeddings:\n",
    "\n",
    " - [Pre-trained word vectors](https://code.google.com/archive/p/word2vec/) from Google which were trained on a part of Google News dataset (about 100 billion words). The model contains 300-dimensional vectors for 3 million words and phrases. `GoogleNews-vectors-negative300.bin.gz` will be downloaded in `download_week3_resources()`.\n",
    " - Representations using StarSpace on StackOverflow data sample. You will need to train them from scratch."
   ]
  },
  {
   "cell_type": "markdown",
   "metadata": {},
   "source": [
    "It's always easier to start with pre-trained embeddings. Unpack the pre-trained Goggle's vectors and upload them using the function [KeyedVectors.load_word2vec_format](https://radimrehurek.com/gensim/models/keyedvectors.html) from gensim library with the parameter *binary=True*. If the size of the embeddings is larger than the avaliable memory, you could load only a part of the embeddings by defining the parameter *limit* (recommended: 500000)."
   ]
  },
  {
   "cell_type": "code",
   "execution_count": 4,
   "metadata": {},
   "outputs": [],
   "source": [
    "import gensim\n",
    "from gensim.test.utils import datapath\n",
    "from gensim.test.utils import get_tmpfile"
   ]
  },
  {
   "cell_type": "code",
   "execution_count": 5,
   "metadata": {},
   "outputs": [
    {
     "name": "stdout",
     "output_type": "stream",
     "text": [
      "/Users/schaber/Docs/OnlineLearning/hse-aml Natural Language Processing/natural-language-processing/week3\r\n"
     ]
    }
   ],
   "source": [
    "!pwd"
   ]
  },
  {
   "cell_type": "code",
   "execution_count": 6,
   "metadata": {},
   "outputs": [],
   "source": [
    "wv_embeddings = gensim.models.KeyedVectors.load_word2vec_format(\n",
    "    datapath(\"/Users/schaber/Docs/OnlineLearning/hse-aml Natural Language Processing/natural-language-processing/week3/GoogleNews-vectors-negative300.bin\"), binary=True)"
   ]
  },
  {
   "cell_type": "markdown",
   "metadata": {},
   "source": [
    "### How to work with Google's word2vec embeddings?\n",
    "\n",
    "Once you have loaded the representations, make sure you can access them. First, you can check if the loaded embeddings contain a word:\n",
    "    \n",
    "    'word' in wv_embeddings\n",
    "    \n",
    "Second, to get the corresponding embedding you can use the square brackets:\n",
    "\n",
    "    wv_embeddings['word']\n",
    " \n",
    "### Checking that the embeddings are correct \n",
    " \n",
    "To prevent any errors during the first stage, we can check that the loaded embeddings are correct. You can call the function *check_embeddings*, implemented below, which runs 3 tests:\n",
    "1. Find the most similar word for provided \"positive\" and \"negative\" words.\n",
    "2. Find which word from the given list doesn’t go with the others.\n",
    "3. Find the most similar word for the provided one.\n",
    "\n",
    "In the right case the function will return the string *These embeddings look good*. Othervise, you need to validate the previous steps."
   ]
  },
  {
   "cell_type": "code",
   "execution_count": 7,
   "metadata": {},
   "outputs": [],
   "source": [
    "def check_embeddings(embeddings):\n",
    "    error_text = \"Something wrong with your embeddings ('%s test isn't correct).\"\n",
    "    most_similar = embeddings.most_similar(positive=['woman', 'king'], negative=['man'])\n",
    "    if len(most_similar) < 1 or most_similar[0][0] != 'queen':\n",
    "        return error_text % \"Most similar\"\n",
    "\n",
    "    doesnt_match = embeddings.doesnt_match(['breakfast', 'cereal', 'dinner', 'lunch'])\n",
    "    if doesnt_match != 'cereal':\n",
    "        return error_text % \"Doesn't match\"\n",
    "    \n",
    "    most_similar_to_given = embeddings.most_similar_to_given('music', ['water', 'sound', 'backpack', 'mouse'])\n",
    "    if most_similar_to_given != 'sound':\n",
    "        return error_text % \"Most similar to given\"\n",
    "    \n",
    "    return \"These embeddings look good.\""
   ]
  },
  {
   "cell_type": "code",
   "execution_count": 8,
   "metadata": {},
   "outputs": [
    {
     "name": "stdout",
     "output_type": "stream",
     "text": [
      "These embeddings look good.\n"
     ]
    }
   ],
   "source": [
    "print(check_embeddings(wv_embeddings))"
   ]
  },
  {
   "cell_type": "markdown",
   "metadata": {},
   "source": [
    "## From word to text embeddings\n",
    "\n",
    "**Task 1 (Question2Vec).** Usually, we have word-based embeddings, but for the task we need to create a representation for the whole question. It could be done in different ways. In our case we will use a **mean** of all word vectors in the question. Now you need to implement the function *question_to_vec*, which calculates the question representation described above. This function should work with the input text as is without any preprocessing.\n",
    "\n",
    "Note that there could be words without the corresponding embeddings. In this case, you can just skip these words and don't take them into account during calculating the result. If the question doesn't contain any known word with embedding, the function should return a zero vector."
   ]
  },
  {
   "cell_type": "code",
   "execution_count": 9,
   "metadata": {},
   "outputs": [],
   "source": [
    "import numpy as np"
   ]
  },
  {
   "cell_type": "code",
   "execution_count": 120,
   "metadata": {},
   "outputs": [],
   "source": [
    "def question_to_vec(question, embeddings, dim=300):\n",
    "    \"\"\"\n",
    "        question: a string\n",
    "        embeddings: dict where the key is a word and a value is its' embedding\n",
    "        dim: size of the representation\n",
    "\n",
    "        result: vector representation for the question\n",
    "    \"\"\"\n",
    "    ######################################\n",
    "    ######### YOUR CODE HERE #############\n",
    "    ######################################\n",
    "    #assert embeddings.vector_size == dim\n",
    "    assert len(embeddings['word']) == dim\n",
    "    words = question.split(' ')\n",
    "    #vectors = np.array([embeddings[w] for w in (words & set(embeddings.vocab))])\n",
    "    vectors = []\n",
    "    for w in words:\n",
    "        try:\n",
    "            vectors.append(embeddings[w])\n",
    "        except KeyError:\n",
    "            pass\n",
    "    vectors = np.array(vectors)\n",
    "    if not vectors.shape[0]:\n",
    "        vectors = np.zeros(dim)\n",
    "    if len(vectors.shape) > 1:\n",
    "        ret_val = np.mean(vectors, axis=0)\n",
    "    else:\n",
    "        ret_val = vectors\n",
    "    return ret_val"
   ]
  },
  {
   "cell_type": "markdown",
   "metadata": {},
   "source": [
    "To check the basic correctness of your implementation, run the function *question_to_vec_tests*."
   ]
  },
  {
   "cell_type": "code",
   "execution_count": 121,
   "metadata": {},
   "outputs": [],
   "source": [
    "def question_to_vec_tests():\n",
    "    if (np.zeros(300) != question_to_vec('', wv_embeddings)).any():\n",
    "        return \"You need to return zero vector for empty question.\"\n",
    "    if (np.zeros(300) != question_to_vec('thereisnosuchword', wv_embeddings)).any():\n",
    "        return \"You need to return zero vector for the question, which consists only unknown words.\"\n",
    "    if (wv_embeddings['word'] != question_to_vec('word', wv_embeddings)).any():\n",
    "        return \"You need to check the corectness of your function.\"\n",
    "    if ((wv_embeddings['I'] + wv_embeddings['am']) / 2 != question_to_vec('I am', wv_embeddings)).any():\n",
    "        return \"Your function should calculate a mean of word vectors.\"\n",
    "    if (wv_embeddings['word'] != question_to_vec('thereisnosuchword word', wv_embeddings)).any():\n",
    "        return \"You should not consider words which embeddings are unknown.\"\n",
    "    return \"Basic tests are passed.\""
   ]
  },
  {
   "cell_type": "code",
   "execution_count": 122,
   "metadata": {},
   "outputs": [
    {
     "name": "stdout",
     "output_type": "stream",
     "text": [
      "Basic tests are passed.\n"
     ]
    }
   ],
   "source": [
    "print(question_to_vec_tests())"
   ]
  },
  {
   "cell_type": "markdown",
   "metadata": {},
   "source": [
    "You can submit embeddings for the questions from the file *test_embeddings.tsv* to earn the points. In this task you don't need to transform the text of a question somehow."
   ]
  },
  {
   "cell_type": "code",
   "execution_count": 99,
   "metadata": {},
   "outputs": [
    {
     "name": "stdout",
     "output_type": "stream",
     "text": [
      "[nltk_data] Downloading package stopwords to\n",
      "[nltk_data]     /Users/schaber/nltk_data...\n",
      "[nltk_data]   Package stopwords is already up-to-date!\n"
     ]
    }
   ],
   "source": [
    "import nltk\n",
    "nltk.download('stopwords')\n",
    "from util import array_to_string"
   ]
  },
  {
   "cell_type": "code",
   "execution_count": 100,
   "metadata": {},
   "outputs": [
    {
     "name": "stdout",
     "output_type": "stream",
     "text": [
      "Current answer for task Question2Vec is: 0.01929389126598835\n",
      "-0.02872721292078495\n",
      "0.0460561104118824\n",
      "0.0852593332529068\n",
      "0.0243055559694767\n",
      "-0...\n"
     ]
    }
   ],
   "source": [
    "question2vec_result = []\n",
    "for question in open('data/test_embeddings.tsv'):\n",
    "    question = question.strip()\n",
    "    answer = question_to_vec(question, wv_embeddings)\n",
    "    question2vec_result = np.append(question2vec_result, answer)\n",
    "\n",
    "grader.submit_tag('Question2Vec', array_to_string(question2vec_result))"
   ]
  },
  {
   "cell_type": "code",
   "execution_count": 95,
   "metadata": {},
   "outputs": [
    {
     "name": "stdout",
     "output_type": "stream",
     "text": [
      "MySql 5.7 installer fails to detect VS 2013 redistributable\n"
     ]
    }
   ],
   "source": [
    "print(question)"
   ]
  },
  {
   "cell_type": "code",
   "execution_count": 101,
   "metadata": {},
   "outputs": [
    {
     "name": "stdout",
     "output_type": "stream",
     "text": [
      "[ 0.01929389 -0.02872721  0.04605611 ... -0.11884562 -0.01780192\n",
      "  0.01442464]\n"
     ]
    }
   ],
   "source": [
    "print(question2vec_result)"
   ]
  },
  {
   "cell_type": "markdown",
   "metadata": {},
   "source": [
    "Now we have a method to create a representation of any sentence and we are ready for the first evaluation. So, let's check how well our solution (Google's vectors + *question_to_vec*) will work.\n",
    "\n",
    "## Evaluation of text similarity\n",
    "\n",
    "We can imagine that if we use good embeddings, the cosine similarity between the duplicate sentences should be less (more?!) than for the random ones. Overall, for each pair of duplicate sentences we can generate *R* random negative examples and find out the position of the correct duplicate.  \n",
    "\n",
    "For example, we have the question *\"Exceptions What really happens\"* and we are sure that another question *\"How does the catch keyword determine the type of exception that was thrown\"* is a duplicate. But our model doesn't know it and tries to find out the best option also among questions like *\"How Can I Make These Links Rotate in PHP\"*, *\"NSLog array description not memory address\"* and *\"PECL_HTTP not recognised php ubuntu\"*. The goal of the model is to rank all these 4 questions (1 *positive* and *R* = 3 *negative*) in the way that the correct one is in the first place.\n",
    "\n",
    "However, it is unnatural to expect the best candidate will always be in the first place. So let us consider the place of the best candidate in the sorted list of candidates and formulate a metric based on it. We can fix some *K* — a reasonable number of top-ranked elements and *N* — a number of queries (size of the sample).\n",
    "\n",
    "### Hits@K\n",
    "\n",
    "The first simple metric will be a number of correct hits for some *K*:\n",
    "$$ \\text{Hits@K} = \\frac{1}{N}\\sum_{i=1}^N \\, [dup_i \\in topK(q_i)]$$\n",
    "\n",
    "where $q_i$ is the i-th query, $dup_i$ is its duplicate, $topK(q_i)$ is the top K elements of the ranked sentences provided by our model and the operation $[dup_i \\in topK(q_i)]$ equals 1 if the condition is true and 0 otherwise (more details about this operation could be found [here](https://en.wikipedia.org/wiki/Iverson_bracket)).\n",
    "\n",
    "\n",
    "### DCG@K\n",
    "The second one is a simplified [DCG metric](https://en.wikipedia.org/wiki/Discounted_cumulative_gain):\n",
    "\n",
    "$$ \\text{DCG@K} = \\frac{1}{N} \\sum_{i=1}^N\\frac{1}{\\log_2(1+rank_{dup_i})}\\cdot[rank_{dup_i} \\le K] $$\n",
    "\n",
    "where $rank_{dup_i}$ is a position of the duplicate in the sorted list of the nearest sentences for the query $q_i$. According to this metric, the model gets a higher reward for a higher position of the correct answer. If the answer does not appear in topK at all, the reward is zero. "
   ]
  },
  {
   "cell_type": "markdown",
   "metadata": {},
   "source": [
    "### Evaluation examples\n",
    "\n",
    "Let's calculate the described metrics for the toy example introduced above. In this case $N$ = 1 and the correct candidate for $q_1$ is *\"How does the catch keyword determine the type of exception that was thrown\"*. Consider the following ranking of the candidates:\n",
    "1. *\"How Can I Make These Links Rotate in PHP\"*\n",
    "2. *\"How does the catch keyword determine the type of exception that was thrown\"*\n",
    "3. *\"NSLog array description not memory address\"*\n",
    "4. *\"PECL_HTTP not recognised php ubuntu\"*\n",
    "\n",
    "Using the ranking above, calculate *Hits@K* metric for *K = 1, 2, 4*: \n",
    " \n",
    "- [K = 1] $\\text{Hits@1} = \\frac{1}{1}\\sum_{i=1}^1 \\, [dup_i \\in top1(q_i)] = [dup_1 \\in top1(q_1)] = 0$ because the correct answer doesn't appear in the *top1* list.\n",
    "- [K = 2] $\\text{Hits@2} = \\frac{1}{1}\\sum_{i=1}^1 \\, [dup_i \\in top2(q_i)] = [dup_1 \\in top2(q_1)] = 1$ because $rank_{dup_1} = 2$.\n",
    "- [K = 4] $\\text{Hits@4} = \\frac{1}{1}\\sum_{i=1}^1 \\, [dup_i \\in top4(q_i)] = [dup_1 \\in top4(q_1)] = 1$\n",
    "\n",
    "Using the ranking above, calculate *DCG@K* metric for *K = 1, 2, 4*:\n",
    "\n",
    "- [K = 1] $\\text{DCG@1} = \\frac{1}{1} \\sum_{i=1}^1\\frac{1}{\\log_2(1+rank_{dup_i})}\\cdot[rank_{dup_i} \\le 1] = \\frac{1}{\\log_2(1+rank_{dup_i})}\\cdot[rank_{dup_i} \\le 1] = 0$ because the correct answer doesn't appear in the top1 list.\n",
    "- [K = 2] $\\text{DCG@2} = \\frac{1}{1} \\sum_{i=1}^1\\frac{1}{\\log_2(1+rank_{dup_i})}\\cdot[rank_{dup_i} \\le 2] = \\frac{1}{\\log_2{3}}$, because $rank_{dup_1} = 2$.\n",
    "- [K = 4] $\\text{DCG@4} = \\frac{1}{1} \\sum_{i=1}^1\\frac{1}{\\log_2(1+rank_{dup_i})}\\cdot[rank_{dup_i} \\le 4] = \\frac{1}{\\log_2{3}}$.\n"
   ]
  },
  {
   "cell_type": "markdown",
   "metadata": {},
   "source": [
    "**Tasks 2 and 3 (HitsCount and DCGScore).** Implement the functions *hits_count* and *dcg_score* as described above. Each function has two arguments: *dup_ranks* and *k*. *dup_ranks* is a list which contains *values of ranks* of duplicates. For example, *dup_ranks* is *[2]* for the example provided above."
   ]
  },
  {
   "cell_type": "code",
   "execution_count": 52,
   "metadata": {},
   "outputs": [],
   "source": [
    "def hits_count(dup_ranks, k):\n",
    "    \"\"\"\n",
    "        dup_ranks: list of duplicates' ranks; one rank per question; \n",
    "                   length is a number of questions which we are looking for duplicates; \n",
    "                   rank is a number from 1 to len(candidates of the question); \n",
    "                   e.g. [2, 3] means that the first duplicate has the rank 2, the second one — 3.\n",
    "        k: number of top-ranked elements (k in Hits@k metric)\n",
    "\n",
    "        result: return Hits@k value for current ranking\n",
    "    \"\"\"\n",
    "    ######################################\n",
    "    ######### YOUR CODE HERE #############\n",
    "    ######################################\n",
    "    ret_val = np.mean(np.array(dup_ranks) <= k)\n",
    "    return ret_val"
   ]
  },
  {
   "cell_type": "markdown",
   "metadata": {},
   "source": [
    "Test your code on the tiny examples:"
   ]
  },
  {
   "cell_type": "code",
   "execution_count": 53,
   "metadata": {},
   "outputs": [],
   "source": [
    "def test_hits():\n",
    "    # *Evaluation example*\n",
    "    # answers — dup_i\n",
    "    answers = [\"How does the catch keyword determine the type of exception that was thrown\"]\n",
    "    \n",
    "    # candidates_ranking — the ranked sentences provided by our model\n",
    "    candidates_ranking = [[\"How Can I Make These Links Rotate in PHP\", \n",
    "                           \"How does the catch keyword determine the type of exception that was thrown\",\n",
    "                           \"NSLog array description not memory address\",\n",
    "                           \"PECL_HTTP not recognised php ubuntu\"]]\n",
    "    # dup_ranks — position of the dup_i in the list of ranks +1\n",
    "    dup_ranks = [candidates_ranking[i].index(answers[i]) + 1 for i in range(len(answers))]\n",
    "    \n",
    "    # correct_answers — the expected values of the result for each k from 1 to 4\n",
    "    correct_answers = [0, 1, 1, 1]\n",
    "    for k, correct in enumerate(correct_answers, 1):\n",
    "        if not np.isclose(hits_count(dup_ranks, k), correct):\n",
    "            return \"Check the function.\"\n",
    "    \n",
    "    # Other tests\n",
    "    answers = [\"How does the catch keyword determine the type of exception that was thrown\", \n",
    "               \"Convert Google results object (pure js) to Python object\"]\n",
    "    \n",
    "    # The first test: both duplicates on the first position in ranked list\n",
    "    candidates_ranking = [[\"How does the catch keyword determine the type of exception that was thrown\",\n",
    "                           \"How Can I Make These Links Rotate in PHP\"], \n",
    "                          [\"Convert Google results object (pure js) to Python object\",\n",
    "                           \"WPF- How to update the changes in list item of a list\"]]\n",
    "    dup_ranks = [candidates_ranking[i].index(answers[i]) + 1 for i in range(len(answers))]\n",
    "    correct_answers = [1, 1]\n",
    "    for k, correct in enumerate(correct_answers, 1):\n",
    "        if not np.isclose(hits_count(dup_ranks, k), correct):\n",
    "            return \"Check the function (test: both duplicates on the first position in ranked list).\"\n",
    "        \n",
    "    # The second test: one candidate on the first position, another — on the second\n",
    "    candidates_ranking = [[\"How Can I Make These Links Rotate in PHP\", \n",
    "                           \"How does the catch keyword determine the type of exception that was thrown\"], \n",
    "                          [\"Convert Google results object (pure js) to Python object\",\n",
    "                           \"WPF- How to update the changes in list item of a list\"]]\n",
    "    dup_ranks = [candidates_ranking[i].index(answers[i]) + 1 for i in range(len(answers))]\n",
    "    correct_answers = [0.5, 1]\n",
    "    for k, correct in enumerate(correct_answers, 1):\n",
    "        if not np.isclose(hits_count(dup_ranks, k), correct):\n",
    "            return \"Check the function (test: one candidate on the first position, another — on the second).\"\n",
    "\n",
    "    # The third test: both candidates on the second position\n",
    "    candidates_ranking = [[\"How Can I Make These Links Rotate in PHP\", \n",
    "                           \"How does the catch keyword determine the type of exception that was thrown\"], \n",
    "                          [\"WPF- How to update the changes in list item of a list\",\n",
    "                           \"Convert Google results object (pure js) to Python object\"]]\n",
    "    dup_ranks = [candidates_ranking[i].index(answers[i]) + 1 for i in range(len(answers))]\n",
    "    correct_answers = [0, 1]\n",
    "    for k, correct in enumerate(correct_answers, 1):\n",
    "        if not np.isclose(hits_count(dup_ranks, k), correct):\n",
    "            return \"Check the function (test: both candidates on the second position).\"\n",
    "\n",
    "    return \"Basic test are passed.\""
   ]
  },
  {
   "cell_type": "code",
   "execution_count": 54,
   "metadata": {},
   "outputs": [
    {
     "name": "stdout",
     "output_type": "stream",
     "text": [
      "Basic test are passed.\n"
     ]
    }
   ],
   "source": [
    "print(test_hits())"
   ]
  },
  {
   "cell_type": "code",
   "execution_count": 55,
   "metadata": {},
   "outputs": [],
   "source": [
    "def dcg_score(dup_ranks, k):\n",
    "    \"\"\"\n",
    "        dup_ranks: list of duplicates' ranks; one rank per question; \n",
    "                   length is a number of questions which we are looking for duplicates; \n",
    "                   rank is a number from 1 to len(candidates of the question); \n",
    "                   e.g. [2, 3] means that the first duplicate has the rank 2, the second one — 3.\n",
    "        k: number of top-ranked elements (k in DCG@k metric)\n",
    "\n",
    "        result: return DCG@k value for current ranking\n",
    "    \"\"\"\n",
    "    ######################################\n",
    "    ######### YOUR CODE HERE #############\n",
    "    ######################################\n",
    "    has_hit = (np.array(dup_ranks) <= k)\n",
    "    ret_val = []\n",
    "    for i, h in enumerate(has_hit):\n",
    "        if h:\n",
    "            ret_val.append(1.0/(np.log2(dup_ranks[i] + 1)))\n",
    "        else:\n",
    "            ret_val.append(0)\n",
    "    return np.mean(ret_val)"
   ]
  },
  {
   "cell_type": "code",
   "execution_count": 56,
   "metadata": {},
   "outputs": [],
   "source": [
    "def test_dcg():\n",
    "    # *Evaluation example*\n",
    "    # answers — dup_i\n",
    "    answers = [\"How does the catch keyword determine the type of exception that was thrown\"]\n",
    "    \n",
    "    # candidates_ranking — the ranked sentences provided by our model\n",
    "    candidates_ranking = [[\"How Can I Make These Links Rotate in PHP\", \n",
    "                           \"How does the catch keyword determine the type of exception that was thrown\",\n",
    "                           \"NSLog array description not memory address\",\n",
    "                           \"PECL_HTTP not recognised php ubuntu\"]]\n",
    "    # dup_ranks — position of the dup_i in the list of ranks +1\n",
    "    dup_ranks = [candidates_ranking[i].index(answers[i]) + 1 for i in range(len(answers))]\n",
    "    \n",
    "    # correct_answers — the expected values of the result for each k from 1 to 4\n",
    "    correct_answers = [0, 1 / (np.log2(3)), 1 / (np.log2(3)), 1 / (np.log2(3))]\n",
    "    for k, correct in enumerate(correct_answers, 1):\n",
    "        if not np.isclose(dcg_score(dup_ranks, k), correct):\n",
    "            return \"Check the function.\"\n",
    "    \n",
    "    # Other tests\n",
    "    answers = [\"How does the catch keyword determine the type of exception that was thrown\", \n",
    "               \"Convert Google results object (pure js) to Python object\"]\n",
    "\n",
    "    # The first test: both duplicates on the first position in ranked list\n",
    "    candidates_ranking = [[\"How does the catch keyword determine the type of exception that was thrown\",\n",
    "                           \"How Can I Make These Links Rotate in PHP\"], \n",
    "                          [\"Convert Google results object (pure js) to Python object\",\n",
    "                           \"WPF- How to update the changes in list item of a list\"]]\n",
    "    dup_ranks = [candidates_ranking[i].index(answers[i]) + 1 for i in range(len(answers))]\n",
    "    correct_answers = [1, 1]\n",
    "    for k, correct in enumerate(correct_answers, 1):\n",
    "        if not np.isclose(dcg_score(dup_ranks, k), correct):\n",
    "            return \"Check the function (test: both duplicates on the first position in ranked list).\"\n",
    "        \n",
    "    # The second test: one candidate on the first position, another — on the second\n",
    "    candidates_ranking = [[\"How Can I Make These Links Rotate in PHP\", \n",
    "                           \"How does the catch keyword determine the type of exception that was thrown\"], \n",
    "                          [\"Convert Google results object (pure js) to Python object\",\n",
    "                           \"WPF- How to update the changes in list item of a list\"]]\n",
    "    dup_ranks = [candidates_ranking[i].index(answers[i]) + 1 for i in range(len(answers))]\n",
    "    correct_answers = [0.5, (1 + (1 / (np.log2(3)))) / 2]\n",
    "    for k, correct in enumerate(correct_answers, 1):\n",
    "        if not np.isclose(dcg_score(dup_ranks, k), correct):\n",
    "            return \"Check the function (test: one candidate on the first position, another — on the second).\"\n",
    "        \n",
    "    # The third test: both candidates on the second position\n",
    "    candidates_ranking = [[\"How Can I Make These Links Rotate in PHP\",\n",
    "                           \"How does the catch keyword determine the type of exception that was thrown\"], \n",
    "                          [\"WPF- How to update the changes in list item of a list\",\n",
    "                           \"Convert Google results object (pure js) to Python object\"]]\n",
    "    dup_ranks = [candidates_ranking[i].index(answers[i]) + 1 for i in range(len(answers))]\n",
    "    correct_answers = [0, 1 / (np.log2(3))]\n",
    "    for k, correct in enumerate(correct_answers, 1):\n",
    "        if not np.isclose(dcg_score(dup_ranks, k), correct):\n",
    "            return \"Check the function (test: both candidates on the second position).\"\n",
    "\n",
    "    return \"Basic test are passed.\""
   ]
  },
  {
   "cell_type": "code",
   "execution_count": 57,
   "metadata": {},
   "outputs": [
    {
     "name": "stdout",
     "output_type": "stream",
     "text": [
      "Basic test are passed.\n"
     ]
    }
   ],
   "source": [
    "print(test_dcg())"
   ]
  },
  {
   "cell_type": "markdown",
   "metadata": {},
   "source": [
    "Submit results of the functions *hits_count* and *dcg_score* for the following examples to earn the points."
   ]
  },
  {
   "cell_type": "code",
   "execution_count": 58,
   "metadata": {},
   "outputs": [],
   "source": [
    "test_examples = [\n",
    "    [1],\n",
    "    [1, 2],\n",
    "    [2, 1],\n",
    "    [1, 2, 3],\n",
    "    [1, 2, 3, 4, 5, 6, 7, 8, 9, 10],\n",
    "    [9, 5, 4, 2, 8, 10, 7, 6, 1, 3],\n",
    "    [4, 3, 5, 1, 9, 10, 7, 8, 2, 6],\n",
    "    [5, 1, 7, 6, 2, 3, 8, 9, 10, 4],\n",
    "    [6, 3, 1, 4, 7, 2, 9, 8, 10, 5],\n",
    "    [10, 9, 8, 7, 6, 5, 4, 3, 2, 1],\n",
    "]"
   ]
  },
  {
   "cell_type": "code",
   "execution_count": 59,
   "metadata": {},
   "outputs": [
    {
     "name": "stdout",
     "output_type": "stream",
     "text": [
      "Current answer for task HitsCount is: 1.0\n",
      "0.5\n",
      "1.0\n",
      "0.5\n",
      "1.0\n",
      "0.3333333333333333\n",
      "0.6666666666666666\n",
      "1.0\n",
      "0.1\n",
      "0.2\n",
      "0.3\n",
      "0.4\n",
      "0.5\n",
      "0.6\n",
      "0.7\n",
      "0.8\n",
      "0.9\n",
      "1....\n"
     ]
    }
   ],
   "source": [
    "hits_results = []\n",
    "for example in test_examples:\n",
    "    for k in range(len(example)):\n",
    "        hits_results.append(hits_count(example, k + 1))\n",
    "grader.submit_tag('HitsCount', array_to_string(hits_results))"
   ]
  },
  {
   "cell_type": "code",
   "execution_count": 60,
   "metadata": {},
   "outputs": [
    {
     "name": "stdout",
     "output_type": "stream",
     "text": [
      "Current answer for task DCGScore is: 1.0\n",
      "0.5\n",
      "0.8154648767857288\n",
      "0.5\n",
      "0.8154648767857288\n",
      "0.3333333333333333\n",
      "0.5436432511904858\n",
      "0.7103099178...\n"
     ]
    }
   ],
   "source": [
    "dcg_results = []\n",
    "for example in test_examples:\n",
    "    for k in range(len(example)):\n",
    "        dcg_results.append(dcg_score(example, k + 1))\n",
    "grader.submit_tag('DCGScore', array_to_string(dcg_results))"
   ]
  },
  {
   "cell_type": "markdown",
   "metadata": {},
   "source": [
    "##  First solution: pre-trained embeddings"
   ]
  },
  {
   "cell_type": "markdown",
   "metadata": {},
   "source": [
    "We will work with predefined train, validation and test corpora. All the files are tab-separated, but have a different format:\n",
    " - *train* corpus contains similar sentences at the same row.\n",
    " - *validation* corpus contains the following columns: *question*, *similar question*, *negative example 1*, *negative example 2*, ... \n",
    " - *test* corpus contains the following columns: *question*, *example 1*, *example 2*, ...\n",
    "\n",
    "Validation corpus will be used for the intermediate validation of models. The test data will be necessary for submitting the quality of your model in the system."
   ]
  },
  {
   "cell_type": "markdown",
   "metadata": {},
   "source": [
    "Now you should upload *validation* corpus to evaluate current solution."
   ]
  },
  {
   "cell_type": "code",
   "execution_count": 61,
   "metadata": {},
   "outputs": [],
   "source": [
    "def read_corpus(filename):\n",
    "    data = []\n",
    "    for line in open(filename, encoding='utf-8'):\n",
    "        data.append(line.strip().split('\\t'))\n",
    "    return data"
   ]
  },
  {
   "cell_type": "code",
   "execution_count": 62,
   "metadata": {},
   "outputs": [],
   "source": [
    "######### YOUR CODE HERE #############\n",
    "validation = read_corpus('data/validation.tsv')"
   ]
  },
  {
   "cell_type": "code",
   "execution_count": 63,
   "metadata": {},
   "outputs": [],
   "source": [
    "from sklearn.metrics.pairwise import cosine_similarity"
   ]
  },
  {
   "cell_type": "markdown",
   "metadata": {},
   "source": [
    "We will use cosine distance to rank candidate questions which you need to implement in the function *rank_candidates*. The function should return a sorted list of pairs *(initial position in candidates list, candidate)*. Index of some pair corresponds to its rank (the first is the best). For example, if the list of candidates was *[a, b, c]* and the most similar is *c*, then *a* and *b*, the function should return a list *[(2, c), (0, a), (1, b)]*.\n",
    "\n",
    "Pay attention, if you use the function *cosine_similarity* from *sklearn.metrics.pairwise* to calculate similarity because it works in a different way: most similar objects has greatest similarity. It's preferable to use a vectorized version of *cosine_similarity* function. Try to compute similarity at once and not use list comprehension. It should speed up your computations significantly."
   ]
  },
  {
   "cell_type": "code",
   "execution_count": 64,
   "metadata": {},
   "outputs": [],
   "source": [
    "def rank_candidates(question, candidates, embeddings, dim=300):\n",
    "    \"\"\"\n",
    "        question: a string\n",
    "        candidates: a list of strings (candidates) which we want to rank\n",
    "        embeddings: some embeddings\n",
    "        dim: dimension of the current embeddings\n",
    "        \n",
    "        result: a list of pairs (initial position in the list, question)\n",
    "    \"\"\"\n",
    "    \n",
    "    ######################################\n",
    "    ######### YOUR CODE HERE #############\n",
    "    ######################################\n",
    "    question_vec = [question_to_vec(question, embeddings, dim=dim)]\n",
    "    candidates_vecs = [question_to_vec(c, embeddings, dim=dim) for c in candidates]\n",
    "    sims = cosine_similarity(question_vec, candidates_vecs)\n",
    "    orig_idxs = np.argsort(np.squeeze(sims))[::-1]\n",
    "    ret_val = [(o, candidates[o]) for o in orig_idxs]\n",
    "    return ret_val"
   ]
  },
  {
   "cell_type": "markdown",
   "metadata": {},
   "source": [
    "Test your code on the tiny examples:"
   ]
  },
  {
   "cell_type": "code",
   "execution_count": 65,
   "metadata": {},
   "outputs": [],
   "source": [
    "def test_rank_candidates():\n",
    "    questions = ['converting string to list', 'Sending array via Ajax fails']\n",
    "    candidates = [['Convert Google results object (pure js) to Python object', \n",
    "                   'C# create cookie from string and send it',\n",
    "                   'How to use jQuery AJAX for an outside domain?'], \n",
    "                  ['Getting all list items of an unordered list in PHP', \n",
    "                   'WPF- How to update the changes in list item of a list', \n",
    "                   'select2 not displaying search results']]\n",
    "    results = [[(1, 'C# create cookie from string and send it'), \n",
    "                (0, 'Convert Google results object (pure js) to Python object'), \n",
    "                (2, 'How to use jQuery AJAX for an outside domain?')],\n",
    "               [(0, 'Getting all list items of an unordered list in PHP'), \n",
    "                (2, 'select2 not displaying search results'), \n",
    "                (1, 'WPF- How to update the changes in list item of a list')]]\n",
    "    for question, q_candidates, result in zip(questions, candidates, results):\n",
    "        ranks = rank_candidates(question, q_candidates, wv_embeddings, 300)\n",
    "        if not np.all(ranks == result):\n",
    "            return \"Check the function.\"\n",
    "    return \"Basic tests are passed.\""
   ]
  },
  {
   "cell_type": "code",
   "execution_count": 66,
   "metadata": {},
   "outputs": [
    {
     "name": "stdout",
     "output_type": "stream",
     "text": [
      "Basic tests are passed.\n"
     ]
    }
   ],
   "source": [
    "print(test_rank_candidates())"
   ]
  },
  {
   "cell_type": "markdown",
   "metadata": {},
   "source": [
    "Now we can test the quality of the current approach. Run the next two cells to get the results. Pay attention that calculation of similarity between vectors takes time and this calculation is computed approximately in 10 minutes."
   ]
  },
  {
   "cell_type": "code",
   "execution_count": 67,
   "metadata": {},
   "outputs": [
    {
     "name": "stdout",
     "output_type": "stream",
     "text": [
      "10000\n"
     ]
    }
   ],
   "source": [
    "print(len(validation))"
   ]
  },
  {
   "cell_type": "code",
   "execution_count": 68,
   "metadata": {},
   "outputs": [
    {
     "name": "stdout",
     "output_type": "stream",
     "text": [
      "0\n",
      "1001\n",
      "How to print a binary heap tree without recursion?\n",
      "1\n",
      "1001\n",
      "How to start PhoneStateListener programmatically?\n",
      "2\n",
      "1001\n",
      "jQuery: Show a div2 when mousenter over div1 is over\n",
      "3\n",
      "1001\n",
      "Performing async method in a loop in node.js and waiting for result\n",
      "4\n",
      "1001\n",
      "UE4: output game frames to file\n"
     ]
    }
   ],
   "source": [
    "for i in range(5):\n",
    "    print(i)\n",
    "    print(len(validation[i]))\n",
    "    print(validation[i][0])"
   ]
  },
  {
   "cell_type": "code",
   "execution_count": 76,
   "metadata": {},
   "outputs": [],
   "source": [
    "#%%prun -s cumulative\n",
    "wv_ranking = []\n",
    "for line in validation:\n",
    "    q, *ex = line\n",
    "    ranks = rank_candidates(q, ex[:50], wv_embeddings)\n",
    "    wv_ranking.append([r[0] for r in ranks].index(0) + 1)"
   ]
  },
  {
   "cell_type": "code",
   "execution_count": 77,
   "metadata": {},
   "outputs": [
    {
     "name": "stdout",
     "output_type": "stream",
     "text": [
      "DCG@   1: 0.383 | Hits@   1: 0.383\n",
      "DCG@   5: 0.473 | Hits@   5: 0.552\n",
      "DCG@  10: 0.502 | Hits@  10: 0.642\n",
      "DCG@ 100: 0.579 | Hits@ 100: 1.000\n",
      "DCG@ 500: 0.579 | Hits@ 500: 1.000\n",
      "DCG@1000: 0.579 | Hits@1000: 1.000\n"
     ]
    }
   ],
   "source": [
    "for k in [1, 5, 10, 100, 500, 1000]:\n",
    "    print(\"DCG@%4d: %.3f | Hits@%4d: %.3f\" % (k, dcg_score(wv_ranking, k), k, hits_count(wv_ranking, k)))"
   ]
  },
  {
   "cell_type": "markdown",
   "metadata": {},
   "source": [
    "If you did all the steps correctly, you should be frustrated by the received results. Let's try to understand why the quality is so low. First of all, when you work with some data it is necessary to have an idea how the data looks like. Print several questions from the data:"
   ]
  },
  {
   "cell_type": "code",
   "execution_count": 78,
   "metadata": {},
   "outputs": [
    {
     "name": "stdout",
     "output_type": "stream",
     "text": [
      "How to print a binary heap tree without recursion? How do you best convert a recursive function to an iterative one? How can i use ng-model with directive in angular js flash: drawing and erasing\n",
      "How to start PhoneStateListener programmatically? PhoneStateListener and service Java cast object[] to model WCF and What does this mean?\n",
      "jQuery: Show a div2 when mousenter over div1 is over when hover on div1 depenting on if it is on div2 or not it should act differently How to run selenium in google app engine/cloud? Python Comparing two lists of strings for similarities\n"
     ]
    }
   ],
   "source": [
    "for line in validation[:3]:\n",
    "    q, *examples = line\n",
    "    print(q, *examples[:3])"
   ]
  },
  {
   "cell_type": "markdown",
   "metadata": {},
   "source": [
    "As you can see, we deal with the raw data. It means that we have many punctuation marks, special characters and unlowercased letters. In our case, it could lead to the situation where we can't find some embeddings, e.g. for the word \"grid?\". \n",
    "\n",
    "To solve this problem you should use the functions *text_prepare* from the previous assignments to prepare the data."
   ]
  },
  {
   "cell_type": "code",
   "execution_count": 79,
   "metadata": {},
   "outputs": [],
   "source": [
    "from util import text_prepare"
   ]
  },
  {
   "cell_type": "markdown",
   "metadata": {},
   "source": [
    "Now transform all the questions from the validation set:"
   ]
  },
  {
   "cell_type": "code",
   "execution_count": 81,
   "metadata": {},
   "outputs": [],
   "source": [
    "prepared_validation = []\n",
    "for line in validation:\n",
    "    ######### YOUR CODE HERE #############\n",
    "    prepared_validation.append([text_prepare(q) for q in line])"
   ]
  },
  {
   "cell_type": "markdown",
   "metadata": {},
   "source": [
    "Let's evaluate the approach again after the preparation:"
   ]
  },
  {
   "cell_type": "code",
   "execution_count": 82,
   "metadata": {},
   "outputs": [],
   "source": [
    "wv_prepared_ranking = []\n",
    "for line in prepared_validation:\n",
    "    q, *ex = line\n",
    "    ranks = rank_candidates(q, ex, wv_embeddings)\n",
    "    wv_prepared_ranking.append([r[0] for r in ranks].index(0) + 1)"
   ]
  },
  {
   "cell_type": "code",
   "execution_count": 83,
   "metadata": {},
   "outputs": [
    {
     "name": "stdout",
     "output_type": "stream",
     "text": [
      "DCG@   1: 0.318 | Hits@   1: 0.318\n",
      "DCG@   5: 0.385 | Hits@   5: 0.445\n",
      "DCG@  10: 0.401 | Hits@  10: 0.497\n",
      "DCG@ 100: 0.436 | Hits@ 100: 0.667\n",
      "DCG@ 500: 0.458 | Hits@ 500: 0.840\n",
      "DCG@1000: 0.475 | Hits@1000: 1.000\n"
     ]
    }
   ],
   "source": [
    "for k in [1, 5, 10, 100, 500, 1000]:\n",
    "    print(\"DCG@%4d: %.3f | Hits@%4d: %.3f\" % (k, dcg_score(wv_prepared_ranking, k), \n",
    "                                              k, hits_count(wv_prepared_ranking, k)))"
   ]
  },
  {
   "cell_type": "markdown",
   "metadata": {},
   "source": [
    "Now, prepare also train and test data, because you will need it in the future:"
   ]
  },
  {
   "cell_type": "code",
   "execution_count": 85,
   "metadata": {},
   "outputs": [],
   "source": [
    "def prepare_file(in_, out_):\n",
    "    out = open(out_, 'w')\n",
    "    for line in open(in_, encoding='utf8'):\n",
    "        line = line.strip().split('\\t')\n",
    "        new_line = [text_prepare(q) for q in line]\n",
    "        print(*new_line, sep='\\t', file=out)\n",
    "    out.close()"
   ]
  },
  {
   "cell_type": "code",
   "execution_count": 87,
   "metadata": {},
   "outputs": [],
   "source": [
    "######################################\n",
    "######### YOUR CODE HERE #############\n",
    "######################################\n",
    "prepare_file('data/train.tsv', 'data/train_prepared.tsv')\n",
    "prepare_file('data/test.tsv', 'data/test_prepared.tsv')"
   ]
  },
  {
   "cell_type": "markdown",
   "metadata": {},
   "source": [
    "**Task 4 (W2VTokenizedRanks).** For each question from prepared *test.tsv* submit the ranks of the candidates to earn the points. The calculations should take about 3-5 minutes. Pay attention that the function *rank_candidates* returns a ranking, while in this case you should find a position in this ranking. Ranks should start with 1."
   ]
  },
  {
   "cell_type": "code",
   "execution_count": 88,
   "metadata": {},
   "outputs": [],
   "source": [
    "from util import matrix_to_string"
   ]
  },
  {
   "cell_type": "code",
   "execution_count": 90,
   "metadata": {},
   "outputs": [
    {
     "name": "stdout",
     "output_type": "stream",
     "text": [
      "Current answer for task W2VTokenizedRanks is: 95\t94\t8\t10\t64\t37\t32\t93\t24\t100\t98\t17\t60\t5\t97\t49\t71\t38\t42\t96\t30\t21\t2\t65\t68\t45\t27\t26\t57\t62\t13\t88\t56\t66\t...\n"
     ]
    }
   ],
   "source": [
    "w2v_ranks_results = []\n",
    "prepared_test_data = 'data/test_prepared.tsv' ######### YOUR CODE HERE #############\n",
    "for line in open(prepared_test_data):\n",
    "    q, *ex = line.strip().split('\\t')\n",
    "    ranks = rank_candidates(q, ex, wv_embeddings, 300)\n",
    "    ranked_candidates = [r[0] for r in ranks]\n",
    "    w2v_ranks_results.append([ranked_candidates.index(i) + 1 for i in range(len(ranked_candidates))])\n",
    "    \n",
    "grader.submit_tag('W2VTokenizedRanks', matrix_to_string(w2v_ranks_results))"
   ]
  },
  {
   "cell_type": "markdown",
   "metadata": {},
   "source": [
    "## Advanced solution: StarSpace embeddings\n",
    "\n",
    "Now you are ready to train your own word embeddings! In particular, you need to train embeddings specially for our task of duplicates detection. Unfortunately, StarSpace cannot be run on Windows and we recommend to use provided\n",
    "[docker container](https://github.com/hse-aml/natural-language-processing/blob/master/Docker-tutorial.md) or other alternatives. Don't delete results of this task because you will need it in the final project.\n",
    "\n",
    "### How it works and what's the main difference with word2vec?\n",
    "The main point in this section is that StarSpace can be trained specifically for some tasks. In contrast to word2vec model, which tries to train similar embeddings for words in similar contexts, StarSpace uses embeddings for the whole sentence (just as a sum of embeddings of words and phrases). Despite the fact that in both cases we get word embeddings as a result of the training, StarSpace embeddings are trained using some supervised data, e.g. a set of similar sentence pairs, and thus they can better suit the task.\n",
    "\n",
    "In our case, StarSpace should use two types of sentence pairs for training: \"positive\" and \"negative\". \"Positive\" examples are extracted from the train sample (duplicates, high similarity) and the \"negative\" examples are generated randomly (low similarity assumed). \n",
    "\n",
    "### How to choose the best params for the model?\n",
    "Normally, you would start with some default choice and then run extensive experiments to compare different strategies. However, we have some recommendations ready for you to save your time:\n",
    "- Be careful with choosing the suitable training mode. In this task we want to explore texts similarity which corresponds to *trainMode = 3*.\n",
    "- Use adagrad optimization (parameter *adagrad = true*).\n",
    "- Set the length of phrase equal to 1 (parameter *ngrams*), because we need embeddings only for words.\n",
    "- Don't use a large number of *epochs* (we think that 5 should be enough).\n",
    "- Try dimension *dim* equal to 100.\n",
    "- To compare embeddings usually *cosine* *similarity* is used.\n",
    "- Set *minCount* greater than 1 (for example, 2) if you don't want to get embeddings for extremely rare words.\n",
    "- Parameter *verbose = true* could show you the progress of the training process.\n",
    "- Set parameter *fileFormat* equals *labelDoc*.\n",
    "- Parameter *negSearchLimit* is responsible for a number of negative examples which is used during the training. We think that 10 will be enough for this task.\n",
    "- To increase a speed of training we recommend to set *learning rate* to 0.05."
   ]
  },
  {
   "cell_type": "markdown",
   "metadata": {},
   "source": [
    "Train StarSpace embeddings for unigrams on the train dataset. You don't need to change the format of the input data. Just don't forget to use the prepared version of the training data. \n",
    "\n",
    "If you follow the instruction, the training process will take about 1 hour. The size of the embeddings dictionary should be approximately 100 000 (number of lines in the result file). If you got significantly more than this number, try to check all the instructions above."
   ]
  },
  {
   "cell_type": "code",
   "execution_count": 107,
   "metadata": {},
   "outputs": [
    {
     "name": "stdout",
     "output_type": "stream",
     "text": [
      "Arguments: \n",
      "lr: 0.05\n",
      "dim: 100\n",
      "epoch: 5\n",
      "maxTrainTime: 8640000\n",
      "validationPatience: 10\n",
      "saveEveryEpoch: 0\n",
      "loss: hinge\n",
      "margin: 0.05\n",
      "similarity: cosine\n",
      "maxNegSamples: 10\n",
      "negSearchLimit: 10\n",
      "batchSize: 5\n",
      "thread: 10\n",
      "minCount: 2\n",
      "minCountLabel: 1\n",
      "label: __label__\n",
      "ngrams: 1\n",
      "bucket: 2000000\n",
      "adagrad: 1\n",
      "trainMode: 3\n",
      "fileFormat: labelDoc\n",
      "normalizeText: 0\n",
      "dropoutLHS: 0\n",
      "dropoutRHS: 0\n",
      "Start to initialize starspace model.\n",
      "Build dict from input file : /Users/schaber/Docs/OnlineLearning/hse-aml Natural Language Processing/natural-language-processing/week3/data/train_prepared.tsv\n",
      "Read 12M words\n",
      "Number of words in dictionary:  95058\n",
      "Number of labels in dictionary: 0\n",
      "Loading data from file : /Users/schaber/Docs/OnlineLearning/hse-aml Natural Language Processing/natural-language-processing/week3/data/train_prepared.tsv\n",
      "Total number of examples loaded : 999740\n",
      "Initialized model weights. Model size :\n",
      "matrix : 95058 100\n",
      "Training epoch 0: 0.05 0.01\n",
      "Epoch: 100.0%  lr: 0.040000  loss: 0.042041  eta: 0h3m  tot: 0h0m50s  (20.0%)ot: 0h0m0s  (0.2%)1.3%  lr: 0.049860  loss: 0.183680  eta: 0h5m  tot: 0h0m0s  (0.3%)5m  tot: 0h0m1s  (0.3%)5m  tot: 0h0m1s  (0.4%)h5m  tot: 0h0m1s  (0.5%)2.9%  lr: 0.049690  loss: 0.142926  eta: 0h5m  tot: 0h0m1s  (0.6%)  tot: 0h0m1s  (0.6%)5.8%  lr: 0.049429  loss: 0.112995  eta: 0h4m  tot: 0h0m3s  (1.2%)4m  tot: 0h0m4s  (1.5%)0h0m4s  (1.5%)0h0m4s  (1.8%)4m  tot: 0h0m5s  (1.8%)9.6%  lr: 0.048919  loss: 0.095520  eta: 0h4m  tot: 0h0m5s  (1.9%)9.7%  lr: 0.048919  loss: 0.095398  eta: 0h4m  tot: 0h0m5s  (1.9%)4m  tot: 0h0m5s  (2.1%)h4m  tot: 0h0m6s  (2.5%)0h4m  tot: 0h0m8s  (3.1%)0h4m  tot: 0h0m8s  (3.3%)0h4m  tot: 0h0m9s  (3.6%)19.0%  lr: 0.047968  loss: 0.075683  eta: 0h4m  tot: 0h0m10s  (3.8%)0h4m  tot: 0h0m10s  (3.9%)h4m  tot: 0h0m12s  (4.6%)4m  tot: 0h0m13s  (5.1%)m  tot: 0h0m13s  (5.2%)0h0m13s  (5.3%)  tot: 0h0m15s  (5.7%)0h0m15s  (5.8%)16s  (6.2%)4m  tot: 0h0m16s  (6.3%)  tot: 0h0m16s  (6.4%)h4m  tot: 0h0m16s  (6.5%)m  tot: 0h0m19s  (7.3%)  tot: 0h0m19s  (7.6%)  tot: 0h0m20s  (7.8%)h3m  tot: 0h0m22s  (8.6%)m  tot: 0h0m22s  (8.9%)m  tot: 0h0m23s  (9.1%)45.9%  lr: 0.045125  loss: 0.055445  eta: 0h3m  tot: 0h0m23s  (9.2%)46.9%  lr: 0.045015  loss: 0.054996  eta: 0h3m  tot: 0h0m24s  (9.4%)3m  tot: 0h0m25s  (9.9%)h3m  tot: 0h0m25s  (9.9%)0h3m  tot: 0h0m25s  (10.0%)m  tot: 0h0m26s  (10.2%)m  tot: 0h0m26s  (10.2%)0h0m26s  (10.4%)3m  tot: 0h0m27s  (10.9%)55.5%  lr: 0.044054  loss: 0.051933  eta: 0h3m  tot: 0h0m28s  (11.1%)28s  (11.2%)s  (11.7%)m  tot: 0h0m32s  (12.8%)3m  tot: 0h0m33s  (13.3%)h3m  tot: 0h0m34s  (13.4%)h3m  tot: 0h0m34s  (13.5%)  tot: 0h0m35s  (13.9%)0h3m  tot: 0h0m35s  (14.1%)0h0m36s  (14.5%)h3m  tot: 0h0m37s  (14.7%)3m  tot: 0h0m38s  (15.0%)0m39s  (15.5%)h3m  tot: 0h0m40s  (15.9%)m  tot: 0h0m41s  (16.3%)82.5%  lr: 0.041522  loss: 0.044827  eta: 0h3m  tot: 0h0m41s  (16.5%)h0m44s  (17.7%)93.8%  lr: 0.040451  loss: 0.042884  eta: 0h3m  tot: 0h0m47s  (18.8%)\n",
      " ---+++                Epoch    0 Train error : 0.04283151 +++--- ☃\n",
      "Training epoch 1: 0.04 0.01\n",
      "Epoch: 100.0%  lr: 0.030000  loss: 0.013136  eta: 0h2m  tot: 0h1m42s  (40.0%)  tot: 0h0m51s  (20.2%)52s  (20.7%)0h0m53s  (20.9%)3m  tot: 0h0m53s  (21.1%)m  tot: 0h0m53s  (21.2%)0h3m  tot: 0h0m54s  (21.3%)m  tot: 0h0m55s  (21.8%)h0m56s  (22.2%)h3m  tot: 0h0m57s  (22.5%)s  (23.1%)  tot: 0h0m59s  (23.5%)0.014074  eta: 0h3m  tot: 0h1m1s  (24.3%)22.9%  lr: 0.037668  loss: 0.013928  eta: 0h3m  tot: 0h1m2s  (24.6%)0h1m2s  (24.7%)0h1m3s  (25.1%)28.3%  lr: 0.037237  loss: 0.013793  eta: 0h3m  tot: 0h1m5s  (25.7%)0h1m5s  (25.7%)0h1m5s  (25.7%)  tot: 0h1m6s  (26.0%)0h3m  tot: 0h1m7s  (26.6%)m  tot: 0h1m8s  (26.9%)m8s  (27.0%)0h1m9s  (27.6%)m10s  (27.7%)1m10s  (27.8%)  tot: 0h1m12s  (28.5%)1m12s  (28.5%)m  tot: 0h1m15s  (29.7%)h2m  tot: 0h1m16s  (30.0%)  tot: 0h1m16s  (30.2%)m  tot: 0h1m17s  (30.4%)  tot: 0h1m19s  (31.1%)56.3%  lr: 0.034445  loss: 0.013362  eta: 0h2m  tot: 0h1m19s  (31.3%)2m  tot: 0h1m19s  (31.5%)0h2m  tot: 0h1m22s  (32.4%)m  tot: 0h1m22s  (32.4%)68.1%  lr: 0.033153  loss: 0.013187  eta: 0h2m  tot: 0h1m25s  (33.6%)68.5%  lr: 0.033113  loss: 0.013184  eta: 0h2m  tot: 0h1m25s  (33.7%)68.6%  lr: 0.033113  loss: 0.013174  eta: 0h2m  tot: 0h1m25s  (33.7%)  tot: 0h1m25s  (33.9%)71.7%  lr: 0.032863  loss: 0.013117  eta: 0h2m  tot: 0h1m27s  (34.3%)  tot: 0h1m28s  (34.9%)2m  tot: 0h1m29s  (35.3%)  tot: 0h1m31s  (35.8%)36.0%)  tot: 0h1m32s  (36.4%)h2m  tot: 0h1m33s  (36.6%)  tot: 0h1m33s  (36.7%)m  tot: 0h1m33s  (36.8%)s  (38.0%)0h1m37s  (38.3%)0h1m40s  (39.2%) (39.4%)m  tot: 0h1m41s  (39.6%)\n",
      " ---+++                Epoch    1 Train error : 0.01320504 +++--- ☃\n",
      "Training epoch 2: 0.03 0.01\n",
      "Epoch: 100.0%  lr: 0.020000  loss: 0.009475  eta: 0h1m  tot: 0h2m32s  (60.0%)tot: 0h1m42s  (40.1%)2.7%  lr: 0.029690  loss: 0.009596  eta: 0h2m  tot: 0h1m43s  (40.5%)0h2m  tot: 0h1m45s  (41.1%)m  tot: 0h1m45s  (41.2%)  tot: 0h1m46s  (41.8%)0h2m  tot: 0h1m48s  (42.5%)m  tot: 0h1m49s  (42.7%)m  tot: 0h1m52s  (44.1%)h2m  tot: 0h1m54s  (44.6%)h2m  tot: 0h1m54s  (44.9%)0h1m55s  (45.3%)2m  tot: 0h1m56s  (45.4%)2m  tot: 0h1m57s  (45.8%)m  tot: 0h1m57s  (46.1%)0h1m59s  (46.8%)0h2m0s  (47.2%)m  tot: 0h2m2s  (47.8%)0.009471  eta: 0h2m  tot: 0h2m2s  (47.8%)39.8%  lr: 0.025866  loss: 0.009505  eta: 0h2m  tot: 0h2m2s  (48.0%)m  tot: 0h2m3s  (48.1%)  tot: 0h2m4s  (48.4%)m  tot: 0h2m5s  (48.9%)m  tot: 0h2m6s  (49.4%)2m  tot: 0h2m6s  (49.5%)h2m7s  (49.9%)2m  tot: 0h2m7s  (49.9%)2m11s  (51.6%)s  (52.1%)  tot: 0h2m13s  (52.3%)0h2m13s  (52.4%)0h2m14s  (52.6%)m  tot: 0h2m14s  (52.6%)0h2m  tot: 0h2m14s  (52.7%)  tot: 0h2m15s  (52.9%)0h2m15s  (53.2%)h1m  tot: 0h2m16s  (53.3%)0h1m  tot: 0h2m16s  (53.4%)0h1m  tot: 0h2m17s  (53.6%)m  tot: 0h2m17s  (54.0%)  tot: 0h2m18s  (54.1%)h1m  tot: 0h2m18s  (54.3%)18s  (54.4%)m  tot: 0h2m19s  (54.7%)1m  tot: 0h2m19s  (54.7%)73.9%  lr: 0.022553  loss: 0.009423  eta: 0h1m  tot: 0h2m19s  (54.8%)h1m  tot: 0h2m20s  (54.9%)  tot: 0h2m20s  (54.9%)h1m  tot: 0h2m20s  (55.0%)0h1m  tot: 0h2m21s  (55.3%)h1m  tot: 0h2m21s  (55.5%)82.1%  lr: 0.021672  loss: 0.009487  eta: 0h1m  tot: 0h2m23s  (56.4%)m  tot: 0h2m23s  (56.5%)0h1m  tot: 0h2m24s  (56.9%)85.7%  lr: 0.021392  loss: 0.009424  eta: 0h1m  tot: 0h2m25s  (57.1%)1m  tot: 0h2m25s  (57.2%)m  tot: 0h2m26s  (57.4%)  tot: 0h2m27s  (57.8%)89.6%  lr: 0.021051  loss: 0.009403  eta: 0h1m  tot: 0h2m27s  (57.9%)  tot: 0h2m27s  (58.1%)m  tot: 0h2m28s  (58.5%)m  tot: 0h2m28s  (58.5%)m  tot: 0h2m29s  (58.7%)1m  tot: 0h2m30s  (59.1%)m  tot: 0h2m31s  (59.4%)\n",
      " ---+++                Epoch    2 Train error : 0.00948948 +++--- ☃\n",
      "Training epoch 3: 0.02 0.01\n",
      "Epoch: 100.0%  lr: 0.010000  loss: 0.007579  eta: <1min   tot: 0h3m22s  (80.0%)3s  (60.1%)1m  tot: 0h2m33s  (60.2%)  tot: 0h2m37s  (61.6%)0h1m  tot: 0h2m37s  (61.7%)m  tot: 0h2m37s  (61.9%)  tot: 0h2m38s  (62.3%)  eta: 0h1m  tot: 0h2m39s  (62.4%)  tot: 0h2m41s  (63.5%)18.3%  lr: 0.018038  loss: 0.007330  eta: 0h1m  tot: 0h2m42s  (63.7%)20.0%  lr: 0.017878  loss: 0.007311  eta: 0h1m  tot: 0h2m43s  (64.0%)0h1m  tot: 0h2m43s  (64.3%)m44s  (64.4%)  tot: 0h2m44s  (64.6%)25.0%  lr: 0.017397  loss: 0.007558  eta: 0h1m  tot: 0h2m45s  (65.0%)65.1%)m  tot: 0h2m48s  (66.0%)  tot: 0h2m48s  (66.2%)1m  tot: 0h2m50s  (66.9%)0h1m  tot: 0h2m50s  (67.2%)m  tot: 0h2m52s  (67.8%)1m  tot: 0h2m52s  (67.9%)42.3%  lr: 0.015596  loss: 0.007653  eta: 0h1m  tot: 0h2m54s  (68.5%)1m  tot: 0h2m55s  (68.8%)s  (69.0%)  tot: 0h2m56s  (69.6%)1m  tot: 0h2m57s  (70.0%)m  tot: 0h3m0s  (71.1%)57.8%  lr: 0.014144  loss: 0.007597  eta: 0h1m  tot: 0h3m2s  (71.6%)0h1m  tot: 0h3m2s  (71.7%)h1m  tot: 0h3m3s  (72.2%)1m  tot: 0h3m3s  (72.3%)s  (73.6%)  tot: 0h3m7s  (73.7%)68.9%  lr: 0.013043  loss: 0.007628  eta: 0h1m  tot: 0h3m7s  (73.8%)h3m9s  (74.5%)77.8%  lr: 0.012202  loss: 0.007532  eta: 0h1m  tot: 0h3m11s  (75.6%)  tot: 0h3m12s  (75.8%)76.1%)s  (76.7%)0h3m14s  (76.8%)h3m15s  (76.9%)84.9%  lr: 0.011472  loss: 0.007509  eta: <1min   tot: 0h3m15s  (77.0%)3m16s  (77.4%)3m16s  (77.5%)3m16s  (77.6%)m18s  (78.3%)19s  (78.5%)3m20s  (79.1%)%  lr: 0.010260  loss: 0.007551  eta: <1min   tot: 0h3m21s  (79.5%)79.6%)h3m22s  (79.9%)\n",
      " ---+++                Epoch    3 Train error : 0.00771523 +++--- ☃\n",
      "Training epoch 4: 0.01 0.01\n"
     ]
    },
    {
     "name": "stdout",
     "output_type": "stream",
     "text": [
      "Epoch: 100.0%  lr: 0.000000  loss: 0.006963  eta: <1min   tot: 0h4m11s  (100.0%)0.2%)1.1%  lr: 0.009910  loss: 0.009122  eta: <1min   tot: 0h3m23s  (80.2%)2.2%  lr: 0.009840  loss: 0.008225  eta: <1min   tot: 0h3m24s  (80.4%)3m26s  (81.5%)%  lr: 0.009039  loss: 0.007261  eta: <1min   tot: 0h3m28s  (82.2%)3m30s  (82.8%)14.0%  lr: 0.008769  loss: 0.006991  eta: <1min   tot: 0h3m30s  (82.8%)3m31s  (83.1%)h3m32s  (83.5%) (83.9%)m34s  (84.4%)3m35s  (84.8%) (84.8%)25.5%  lr: 0.007588  loss: 0.006862  eta: <1min   tot: 0h3m35s  (85.1%)36s  (85.3%)37s  (85.7%)3m38s  (86.2%)  tot: 0h3m39s  (86.4%)h3m40s  (87.0%)%)h3m41s  (87.3%)h3m41s  (87.5%)s  (87.6%)0h3m42s  (87.7%)40.9%  lr: 0.006056  loss: 0.006932  eta: <1min   tot: 0h3m43s  (88.2%)3m47s  (89.5%)  loss: 0.006922  eta: <1min   tot: 0h3m47s  (89.5%)49.9%  lr: 0.005135  loss: 0.006927  eta: <1min   tot: 0h3m48s  (90.0%)h3m50s  (90.9%)h3m55s  (92.9%)3m56s  (93.2%)3m56s  (93.3%)h3m56s  (93.3%)56s  (93.5%)3m56s  (93.5%)s  (93.6%)0h3m57s  (93.8%)57s  (94.0%)0h3m59s  (94.7%)0h4m0s  (95.0%)h4m0s  (95.1%)h4m0s  (95.2%)4m1s  (95.3%)h4m1s  (95.4%)80.4%  lr: 0.001862  loss: 0.007002  eta: <1min   tot: 0h4m2s  (96.1%)h4m3s  (96.6%)4m5s  (97.3%)  tot: 0h4m5s  (97.4%)h4m6s  (97.8%)  tot: 0h4m7s  (98.0%)h4m7s  (98.2%)0h4m8s  (98.7%)m9s  (98.8%) (98.9%)97.9%  lr: 0.000160  loss: 0.006955  eta: <1min   tot: 0h4m10s  (99.6%)98.3%  lr: 0.000130  loss: 0.006951  eta: <1min   tot: 0h4m11s  (99.7%)\n",
      " ---+++                Epoch    4 Train error : 0.00686529 +++--- ☃\n",
      "Saving model to file : modelSaveFile\n",
      "Saving model in tsv format : modelSaveFile.tsv\n"
     ]
    }
   ],
   "source": [
    "######### TRAINING HAPPENING HERE #############\n",
    "!~/starspace/starspace train -trainFile \"/Users/schaber/Docs/OnlineLearning/hse-aml Natural Language Processing/natural-language-processing/week3/data/train_prepared.tsv\"\\\n",
    "-model modelSaveFile \\\n",
    "-trainMode 3\\\n",
    "-adagrad true\\\n",
    "-ngrams 1\\\n",
    "-epoch 5\\\n",
    "-dim 100\\\n",
    "-similarity cosine\\\n",
    "-minCount 2\\\n",
    "-verbose true\\\n",
    "-fileFormat labelDoc\\\n",
    "-negSearchLimit 10\\\n",
    "-lr 0.05\n"
   ]
  },
  {
   "cell_type": "markdown",
   "metadata": {
    "collapsed": true
   },
   "source": [
    "And now we can compare the new embeddings with the previous ones. You can find trained word vectors in the file *[model_file_name].tsv*. Import the embeddings from StarSpace into a dict. "
   ]
  },
  {
   "cell_type": "code",
   "execution_count": 108,
   "metadata": {},
   "outputs": [
    {
     "name": "stdout",
     "output_type": "stream",
     "text": [
      "using\t-0.00193701\t0.00180247\t-0.0116407\t-0.00637906\t-0.0145306\t0.00206919\t-0.00552414\t0.000390595\t-0.0265436\t0.00607121\t-0.0196639\t0.00643353\t-0.00823928\t-0.011104\t-0.0407156\t-0.00761425\t0.0128546\t0.0127185\t0.00432239\t0.0175292\t-0.00422444\t0.0126866\t0.025216\t-0.0151303\t0.00710708\t-0.0110254\t-0.00884878\t0.0102542\t0.00722646\t-0.0115843\t-0.00678095\t0.00497818\t-0.00495081\t-0.0124816\t-0.00648482\t0.00480445\t-0.0150298\t-0.0157144\t-0.00353519\t-0.022281\t0.0167616\t0.0153194\t0.0255826\t-0.00712486\t0.00453143\t-0.0012249\t0.0129742\t-0.0333047\t0.0139919\t0.00833655\t0.015639\t0.00319278\t-0.0241205\t-0.0149342\t0.00596693\t0.014833\t0.00213387\t0.00889021\t0.0165517\t0.0237632\t-0.00513681\t-0.00929258\t-0.00804763\t0.00851502\t0.0047901\t0.00679303\t0.00754097\t0.0111461\t-8.89814e-05\t-0.00653637\t0.0050754\t-0.00843496\t-0.00536854\t0.0190646\t-0.0102732\t0.0088182\t-0.0215717\t0.0234097\t-0.00928148\t0.00715089\t-0.0109858\t0.0165431\t-0.00186692\t-0.00954089\t3.03831e-05\t-0.00243571\t-0.00944422\t-0.0030932\t-0.00330229\t0.000676235\t-0.00136264\t0.0153542\t-0.0027559\t0.0186223\t-0.000164021\t-0.0272724\t-0.00742489\t-0.00437952\t0.0215635\t0.0106474\r\n",
      "android\t-0.0171501\t0.00451742\t0.0556462\t0.0202163\t0.0106451\t0.01258\t0.00215621\t0.0187539\t-0.00670568\t0.0102101\t0.0107035\t0.00684228\t0.0138188\t-0.0212757\t0.000650522\t0.00213657\t-0.0456722\t-0.0105107\t0.0103283\t-0.00703565\t0.0500228\t-0.00721344\t-0.0217659\t-0.00804806\t0.0589887\t0.020555\t-0.00715628\t-0.0211811\t-0.0273583\t-0.0649356\t0.0393538\t0.0318408\t0.0465735\t-0.0244745\t-0.000435226\t0.0646292\t0.0799555\t-0.0175471\t-0.0117274\t0.0516284\t0.0708405\t0.0185673\t-0.0688264\t0.0153892\t0.0995017\t-0.0939839\t0.0384544\t0.0680442\t-0.053913\t0.0199254\t-0.100602\t0.0212466\t-0.0102868\t0.0406205\t-0.0321232\t0.0393037\t0.0386808\t0.0381453\t-0.00755426\t-0.0620517\t0.00482587\t-0.097132\t-0.0365318\t-0.000763932\t0.0134323\t-0.0636907\t-0.0264284\t-0.00418501\t-0.0183015\t0.00862845\t-0.0488629\t0.0369057\t-0.0275246\t0.00634573\t0.0375215\t-0.0446824\t-0.0559088\t-0.016837\t-0.0246923\t-0.00984423\t-0.0332361\t0.0120177\t-0.0388773\t0.0264131\t0.037254\t0.0822949\t0.0626841\t0.0344585\t-0.0155387\t-0.0498409\t-0.0134005\t0.0178905\t-0.131737\t0.0126361\t0.0194272\t-0.0813163\t0.127466\t-0.0210826\t0.104501\t-0.0359267\r\n"
     ]
    }
   ],
   "source": [
    "!head -n2 modelSaveFile.tsv"
   ]
  },
  {
   "cell_type": "code",
   "execution_count": 127,
   "metadata": {},
   "outputs": [],
   "source": [
    "######### YOUR CODE HERE #############\n",
    "starspace_embeddings = {}\n",
    "for line in open('modelSaveFile.tsv'):\n",
    "    w, *vec = line.strip().split('\\t')\n",
    "    starspace_embeddings[w] = np.fromstring(','.join(vec), sep=',')"
   ]
  },
  {
   "cell_type": "code",
   "execution_count": 128,
   "metadata": {},
   "outputs": [
    {
     "data": {
      "text/plain": [
       "100"
      ]
     },
     "execution_count": 128,
     "metadata": {},
     "output_type": "execute_result"
    }
   ],
   "source": [
    "len(starspace_embeddings['word'])"
   ]
  },
  {
   "cell_type": "code",
   "execution_count": 129,
   "metadata": {},
   "outputs": [
    {
     "data": {
      "text/plain": [
       "array([-0.0253939 ,  0.0751446 ,  0.00849775,  0.0728322 , -0.0832533 ,\n",
       "       -0.0407889 ,  0.00386045,  0.016598  ,  0.0247028 ,  0.0889654 ,\n",
       "       -0.0372691 ,  0.0192446 , -0.0961764 , -0.0195178 , -0.0638761 ,\n",
       "        0.0231499 ,  0.138906  ,  0.0242034 ,  0.00817785, -0.121712  ,\n",
       "        0.00529919,  0.0586973 ,  0.0599826 , -0.0364775 ,  0.0233476 ,\n",
       "       -0.0427898 , -0.0597287 , -0.00408805,  0.00117957, -0.162995  ,\n",
       "        0.00757278, -0.0945245 ,  0.040295  ,  0.00307644,  0.00887055,\n",
       "        0.0318013 , -0.00898371,  0.0330797 , -0.00198668,  0.0559616 ,\n",
       "       -0.0148082 ,  0.0139317 ,  0.0242869 ,  0.0433238 ,  0.0934565 ,\n",
       "       -0.067951  , -0.0311508 , -0.133165  , -0.00386369, -0.0938774 ,\n",
       "        0.0606811 , -0.0452917 , -0.038276  ,  0.104355  , -0.0658519 ,\n",
       "       -0.0566375 ,  0.123404  , -0.00460433, -0.0466949 ,  0.00644575,\n",
       "        0.0764163 ,  0.0202637 , -0.0485838 ,  0.0783061 ,  0.0178553 ,\n",
       "        0.0453357 , -0.00250714, -0.0554262 ,  0.0167685 ,  0.0571677 ,\n",
       "       -0.128555  , -0.0141914 ,  0.0219644 ,  0.0727681 , -0.082631  ,\n",
       "       -0.0583691 , -0.0436796 , -0.044991  , -0.0112222 ,  0.0346009 ,\n",
       "        0.0103275 ,  0.0478112 ,  0.0231445 , -0.0491274 , -0.00451845,\n",
       "        0.050196  ,  0.00341383,  0.0184961 , -0.0192958 , -0.0473699 ,\n",
       "       -0.118158  ,  0.00183357,  0.104786  ,  0.0529882 ,  0.0543636 ,\n",
       "       -0.0671487 ,  0.121403  ,  0.0463643 , -0.121376  , -0.0508537 ])"
      ]
     },
     "execution_count": 129,
     "metadata": {},
     "output_type": "execute_result"
    }
   ],
   "source": [
    "np.array(starspace_embeddings['word'])"
   ]
  },
  {
   "cell_type": "code",
   "execution_count": 130,
   "metadata": {},
   "outputs": [],
   "source": [
    "ss_prepared_ranking = []\n",
    "for line in prepared_validation:\n",
    "    q, *ex = line\n",
    "    ranks = rank_candidates(q, ex, starspace_embeddings, 100)\n",
    "    ss_prepared_ranking.append([r[0] for r in ranks].index(0) + 1)"
   ]
  },
  {
   "cell_type": "code",
   "execution_count": 131,
   "metadata": {},
   "outputs": [
    {
     "name": "stdout",
     "output_type": "stream",
     "text": [
      "DCG@   1: 0.525 | Hits@   1: 0.525\n",
      "DCG@   5: 0.617 | Hits@   5: 0.696\n",
      "DCG@  10: 0.636 | Hits@  10: 0.754\n",
      "DCG@ 100: 0.668 | Hits@ 100: 0.906\n",
      "DCG@ 500: 0.678 | Hits@ 500: 0.982\n",
      "DCG@1000: 0.680 | Hits@1000: 1.000\n"
     ]
    }
   ],
   "source": [
    "for k in [1, 5, 10, 100, 500, 1000]:\n",
    "    print(\"DCG@%4d: %.3f | Hits@%4d: %.3f\" % (k, dcg_score(ss_prepared_ranking, k), \n",
    "                                              k, hits_count(ss_prepared_ranking, k)))"
   ]
  },
  {
   "cell_type": "markdown",
   "metadata": {},
   "source": [
    "Due to training for the particular task with the supervised data, you should expect to obtain a higher quality than for the previous approach. In additiion, despite the fact that StarSpace's trained vectors have a smaller dimension than word2vec's, it provides better results in this task."
   ]
  },
  {
   "cell_type": "markdown",
   "metadata": {},
   "source": [
    "**Task 5 (StarSpaceRanks).** For each question from prepared *test.tsv* submit the ranks of the candidates for trained representation."
   ]
  },
  {
   "cell_type": "code",
   "execution_count": 133,
   "metadata": {},
   "outputs": [
    {
     "name": "stdout",
     "output_type": "stream",
     "text": [
      "Current answer for task StarSpaceRanks is: 97\t91\t85\t51\t11\t86\t58\t94\t79\t75\t4\t26\t65\t17\t99\t73\t5\t34\t55\t66\t49\t82\t3\t56\t98\t20\t95\t69\t67\t15\t39\t70\t89\t74\t4...\n"
     ]
    }
   ],
   "source": [
    "starspace_ranks_results = []\n",
    "prepared_test_data = 'data/test_prepared.tsv' ######### YOUR CODE HERE #############\n",
    "for line in open(prepared_test_data):\n",
    "    q, *ex = line.strip().split('\\t')\n",
    "    ranks = rank_candidates(q, ex, starspace_embeddings, 100)\n",
    "    ranked_candidates = [r[0] for r in ranks]\n",
    "    starspace_ranks_results.append([ranked_candidates.index(i) + 1 for i in range(len(ranked_candidates))])\n",
    "    \n",
    "grader.submit_tag('StarSpaceRanks', matrix_to_string(starspace_ranks_results))"
   ]
  },
  {
   "cell_type": "markdown",
   "metadata": {},
   "source": [
    "Please, **don't remove** the file with these embeddings because you will need them in the final project."
   ]
  },
  {
   "cell_type": "markdown",
   "metadata": {},
   "source": [
    "### Authorization & Submission\n",
    "To submit assignment parts to Cousera platform, please, enter your e-mail and token into variables below. You can generate token on this programming assignment page. <b>Note:</b> Token expires 30 minutes after generation."
   ]
  },
  {
   "cell_type": "code",
   "execution_count": 134,
   "metadata": {},
   "outputs": [
    {
     "name": "stdout",
     "output_type": "stream",
     "text": [
      "You want to submit these parts:\n",
      "Task Question2Vec: 0.01929389126598835\n",
      "-0.02872721292078495\n",
      "0.0460561104118824\n",
      "0.0852593332529068\n",
      "0.0243055559694767\n",
      "-0...\n",
      "Task HitsCount: 1.0\n",
      "0.5\n",
      "1.0\n",
      "0.5\n",
      "1.0\n",
      "0.3333333333333333\n",
      "0.6666666666666666\n",
      "1.0\n",
      "0.1\n",
      "0.2\n",
      "0.3\n",
      "0.4\n",
      "0.5\n",
      "0.6\n",
      "0.7\n",
      "0.8\n",
      "0.9\n",
      "1....\n",
      "Task DCGScore: 1.0\n",
      "0.5\n",
      "0.8154648767857288\n",
      "0.5\n",
      "0.8154648767857288\n",
      "0.3333333333333333\n",
      "0.5436432511904858\n",
      "0.7103099178...\n",
      "Task W2VTokenizedRanks: 95\t94\t8\t10\t64\t37\t32\t93\t24\t100\t98\t17\t60\t5\t97\t49\t71\t38\t42\t96\t30\t21\t2\t65\t68\t45\t27\t26\t57\t62\t13\t88\t56\t66\t...\n",
      "Task StarSpaceRanks: 97\t91\t85\t51\t11\t86\t58\t94\t79\t75\t4\t26\t65\t17\t99\t73\t5\t34\t55\t66\t49\t82\t3\t56\t98\t20\t95\t69\t67\t15\t39\t70\t89\t74\t4...\n"
     ]
    }
   ],
   "source": [
    "STUDENT_EMAIL = '' # EMAIL \n",
    "STUDENT_TOKEN = '' # TOKEN \n",
    "grader.status()"
   ]
  },
  {
   "cell_type": "markdown",
   "metadata": {},
   "source": [
    "If you want to submit these answers, run cell below"
   ]
  },
  {
   "cell_type": "code",
   "execution_count": 135,
   "metadata": {},
   "outputs": [
    {
     "name": "stdout",
     "output_type": "stream",
     "text": [
      "Submitted to Coursera platform. See results on assignment page!\n"
     ]
    }
   ],
   "source": [
    "grader.submit(STUDENT_EMAIL, STUDENT_TOKEN)"
   ]
  }
 ],
 "metadata": {
  "kernelspec": {
   "display_name": "Python 3",
   "language": "python",
   "name": "python3"
  },
  "language_info": {
   "codemirror_mode": {
    "name": "ipython",
    "version": 3
   },
   "file_extension": ".py",
   "mimetype": "text/x-python",
   "name": "python",
   "nbconvert_exporter": "python",
   "pygments_lexer": "ipython3",
   "version": "3.6.7"
  }
 },
 "nbformat": 4,
 "nbformat_minor": 2
}
